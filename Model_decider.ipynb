{
 "cells": [
  {
   "cell_type": "markdown",
   "metadata": {},
   "source": [
    "## Model_Decider"
   ]
  },
  {
   "cell_type": "code",
   "execution_count": 250,
   "metadata": {},
   "outputs": [],
   "source": [
    "import pandas as pd\n",
    "import numpy as np\n",
    "import matplotlib.pyplot as plt\n",
    "from sklearn.tree import DecisionTreeRegressor\n",
    "from sklearn.ensemble import AdaBoostRegressor\n",
    "from sklearn.model_selection import train_test_split\n",
    "from sklearn.cross_validation import cross_val_score\n",
    "from sklearn.preprocessing import LabelEncoder\n",
    "import pickle"
   ]
  },
  {
   "cell_type": "code",
   "execution_count": 251,
   "metadata": {},
   "outputs": [],
   "source": [
    "data = pd.read_csv('training/training_data.csv')"
   ]
  },
  {
   "cell_type": "code",
   "execution_count": 252,
   "metadata": {},
   "outputs": [],
   "source": [
    "sample_size = 4\n",
    "new_data = data.sample(sample_size)\n",
    "new_data = new_data.reset_index(drop=True)"
   ]
  },
  {
   "cell_type": "code",
   "execution_count": 253,
   "metadata": {},
   "outputs": [],
   "source": [
    "le = LabelEncoder()\n",
    "new_data['Position'] = le.fit_transform(new_data['Position'])"
   ]
  },
  {
   "cell_type": "code",
   "execution_count": 254,
   "metadata": {},
   "outputs": [],
   "source": [
    "with open(\"AdaBoostPickles/ada_boost_regressor_goalie.p\",\"rb\") as input_file:\n",
    "   goalie = pickle.load(input_file,encoding=\"latin1\")\n",
    "with open(\"AdaBoostPickles/ada_boost_regressor_defender.p\",\"rb\") as input_file:\n",
    "   defend = pickle.load(input_file,encoding=\"latin1\")\n",
    "with open(\"AdaBoostPickles/ada_boost_regressor_forward.p\",\"rb\") as input_file:\n",
    "   att = pickle.load(input_file,encoding=\"latin1\")\n",
    "with open(\"AdaBoostPickles/ada_boost_regressor_midfielder.p\",\"rb\") as input_file:\n",
    "   mid = pickle.load(input_file,encoding=\"latin1\")\n",
    "models = [defend,mid,goalie,att]"
   ]
  },
  {
   "cell_type": "code",
   "execution_count": 257,
   "metadata": {},
   "outputs": [
    {
     "name": "stdout",
     "output_type": "stream",
     "text": [
      "[71.43548387]\n",
      "[67.08333333]\n",
      "[62.04918033]\n",
      "[83.6]\n"
     ]
    }
   ],
   "source": [
    "for i in range(sample_size):\n",
    "    model = models[int(new_data['Position'].loc[i])]\n",
    "    data_temp = new_data.drop(['Position'],axis=1)\n",
    "    y_pred = model.predict(np.array(data_temp.iloc[i]).reshape(-1,1).transpose())\n",
    "    print(y_pred)    "
   ]
  }
 ],
 "metadata": {
  "kernelspec": {
   "display_name": "Python 3",
   "language": "python",
   "name": "python3"
  },
  "language_info": {
   "codemirror_mode": {
    "name": "ipython",
    "version": 3
   },
   "file_extension": ".py",
   "mimetype": "text/x-python",
   "name": "python",
   "nbconvert_exporter": "python",
   "pygments_lexer": "ipython3",
   "version": "3.5.2"
  }
 },
 "nbformat": 4,
 "nbformat_minor": 2
}
