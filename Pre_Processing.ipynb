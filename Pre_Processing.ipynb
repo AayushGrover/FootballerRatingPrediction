{
 "cells": [
  {
   "cell_type": "markdown",
   "metadata": {},
   "source": [
    "## Pre-processing"
   ]
  },
  {
   "cell_type": "code",
   "execution_count": 240,
   "metadata": {},
   "outputs": [],
   "source": [
    "import numpy as np\n",
    "import pandas as pd\n",
    "import matplotlib.pyplot as plt\n",
    "import sklearn\n",
    "import glob\n",
    "from numpy import array\n",
    "from numpy import argmax\n",
    "from sklearn.linear_model import LinearRegression\n",
    "from sklearn.model_selection import train_test_split\n",
    "from sklearn.preprocessing import LabelEncoder\n",
    "from sklearn.preprocessing import OneHotEncoder"
   ]
  },
  {
   "cell_type": "code",
   "execution_count": null,
   "metadata": {},
   "outputs": [],
   "source": [
    "pd.options.mode.chained_assignment = None\n",
    "data = pd.read_csv(\"data_hack.csv\")"
   ]
  },
  {
   "cell_type": "markdown",
   "metadata": {},
   "source": [
    "Dropping unnecessary columns"
   ]
  },
  {
   "cell_type": "code",
   "execution_count": 241,
   "metadata": {},
   "outputs": [],
   "source": [
    "train_data = data.drop(['Sr','club','nationality','pac','sho','pas','dri','def','phy',\\\n",
    "    'international_reputation','skill_moves','weak_foot','work_rate_att','work_rate_def',\\\n",
    "    'preferred_foot','crossing','finishing','heading_accuracy','volleys','dribbling','curve',\\\n",
    "    'free_kick_accuracy','acceleration','sprint_speed','agility','reactions','balance','shot_power',\\\n",
    "    'jumping','stamina','strength','long_shots','aggression','penalties','composure','standing_tackle',\\\n",
    "    'sliding_tackle','gk_diving','gk_kicking','gk_positioning','CS_part-12/13','CS_part-13/14',\\\n",
    "    'CS_part-14/15','CS_part-15/16','CS_part-16/17','Sub_p-16/17','Sub_p-15/16','Sub_p-14/15','Sub_p-13/14',\\\n",
    "    'Sub_p-12/13','CO-12/13','CO-13/14','CO-14/15','CO-15/16','CO-16/17','Conceded_1+-12/13','Conceded_1+-13/14',\\\n",
    "    'Conceded_1+-14/15','Conceded_1+-15/16','Conceded_1+-16/17','Apps-12/13','Apps-13/14','Apps-14/15','Apps-15/16',\\\n",
    "    'Apps-16/17','Form-12/13','Form-13/14','Form-14/15','Form-15/16','Form-16/17'],axis=1)"
   ]
  },
  {
   "cell_type": "code",
   "execution_count": 242,
   "metadata": {},
   "outputs": [],
   "source": [
    "train_data = train_data.drop(train_data.columns[40:],axis=1)\n",
    "train_data.to_csv('check.csv',index=None)"
   ]
  },
  {
   "cell_type": "code",
   "execution_count": 243,
   "metadata": {},
   "outputs": [
    {
     "name": "stdout",
     "output_type": "stream",
     "text": [
      "3922\n"
     ]
    }
   ],
   "source": [
    "rows = train_data.league.size\n",
    "print (rows)"
   ]
  },
  {
   "cell_type": "markdown",
   "metadata": {},
   "source": [
    "Merging of players with duplicate rows. For example: Player A played as midfielder in Season 1 and forward in the latest.He then had two rows. We merged them into one row with his position same as that of the last season in which he played."
   ]
  },
  {
   "cell_type": "code",
   "execution_count": 244,
   "metadata": {},
   "outputs": [],
   "source": [
    "count=0\n",
    "l=[]\n",
    "for i in range(rows):\n",
    "    if(i+1<rows):\n",
    "        if(train_data.iloc[i].Players == train_data.iloc[i+1].Players):\n",
    "            temp_df = train_data[train_data.columns[13:]].iloc[i] + train_data[train_data.columns[13:]].iloc[i+1]\n",
    "            for j in range(25):\n",
    "                train_data[train_data.columns[13+j]].iloc[i] = temp_df[j]\n",
    "            l.append(i+1)"
   ]
  },
  {
   "cell_type": "code",
   "execution_count": 245,
   "metadata": {},
   "outputs": [],
   "source": [
    "train_data = train_data.drop(train_data.index[l])\n",
    "train_data = train_data.drop(['Players'],axis=1)"
   ]
  },
  {
   "cell_type": "code",
   "execution_count": 246,
   "metadata": {},
   "outputs": [
    {
     "name": "stdout",
     "output_type": "stream",
     "text": [
      "3891\n"
     ]
    }
   ],
   "source": [
    "rows = train_data.league.size\n",
    "print (rows)"
   ]
  },
  {
   "cell_type": "markdown",
   "metadata": {},
   "source": [
    "If there are no statistics of a player for the two seasons. We remove the player."
   ]
  },
  {
   "cell_type": "code",
   "execution_count": 247,
   "metadata": {},
   "outputs": [],
   "source": [
    "l = []\n",
    "for i in range(rows):\n",
    "    flag = 0\n",
    "    for j in range(26):\n",
    "        if(train_data[train_data.columns[12+j]].iloc[i]!=0):\n",
    "            flag=1\n",
    "    if(flag==0):\n",
    "        l.append(i)"
   ]
  },
  {
   "cell_type": "code",
   "execution_count": 248,
   "metadata": {},
   "outputs": [
    {
     "name": "stdout",
     "output_type": "stream",
     "text": [
      "3891\n"
     ]
    }
   ],
   "source": [
    "train_data = train_data.drop(train_data.index[l])\n",
    "print(train_data.league.size)"
   ]
  },
  {
   "cell_type": "markdown",
   "metadata": {
    "scrolled": true
   },
   "source": [
    "There were many leagues like Turkish League, Belgian League etc, for our purpose we have used only the top few \n",
    "leagues such as English Premier League, Spanish Premier League etc."
   ]
  },
  {
   "cell_type": "code",
   "execution_count": 249,
   "metadata": {
    "scrolled": true
   },
   "outputs": [
    {
     "name": "stdout",
     "output_type": "stream",
     "text": [
      "3147\n"
     ]
    }
   ],
   "source": [
    "leagues = train_data.league.unique()\n",
    "\n",
    "l = []\n",
    "for i in leagues:\n",
    "    size = train_data.loc[train_data['league'] == i].shape[0]\n",
    "    if(size > 70):\n",
    "        l.append(i)\n",
    "        \n",
    "rows = train_data.league.size\n",
    "rm=[]\n",
    "\n",
    "for i in range(rows):\n",
    "    if train_data['league'].iloc[i] not in l:\n",
    "        rm.append(i)\n",
    "\n",
    "train_data = train_data.drop(train_data.index[rm])\n",
    "\n",
    "print(train_data.league.size)"
   ]
  },
  {
   "cell_type": "code",
   "execution_count": 250,
   "metadata": {},
   "outputs": [],
   "source": [
    "y = train_data['overall']\n",
    "y.to_csv(\"ground_truth/overall.csv\",index=None)\n",
    "goalie_y = y.loc[train_data['Position'] == 'Goalkeeper']\n",
    "defend_y = y.loc[train_data['Position'] == 'Defender']\n",
    "mid_y = y.loc[train_data['Position'] == 'Midfielder']\n",
    "att_y = y.loc[train_data['Position'] == 'Forward']"
   ]
  },
  {
   "cell_type": "code",
   "execution_count": 251,
   "metadata": {},
   "outputs": [
    {
     "name": "stdout",
     "output_type": "stream",
     "text": [
      "339 958 1196 654\n"
     ]
    }
   ],
   "source": [
    "print(goalie_y.size, defend_y.size, mid_y.size, att_y.size)"
   ]
  },
  {
   "cell_type": "code",
   "execution_count": 252,
   "metadata": {
    "scrolled": true
   },
   "outputs": [
    {
     "name": "stdout",
     "output_type": "stream",
     "text": [
      "count    3147.000000\n",
      "mean       72.318081\n",
      "std         6.407605\n",
      "min        48.000000\n",
      "25%        68.000000\n",
      "50%        72.000000\n",
      "75%        77.000000\n",
      "max        94.000000\n",
      "Name: overall, dtype: float64\n"
     ]
    }
   ],
   "source": [
    "print (y.describe())"
   ]
  },
  {
   "cell_type": "code",
   "execution_count": 253,
   "metadata": {},
   "outputs": [
    {
     "data": {
      "text/html": [
       "<div>\n",
       "<style scoped>\n",
       "    .dataframe tbody tr th:only-of-type {\n",
       "        vertical-align: middle;\n",
       "    }\n",
       "\n",
       "    .dataframe tbody tr th {\n",
       "        vertical-align: top;\n",
       "    }\n",
       "\n",
       "    .dataframe thead th {\n",
       "        text-align: right;\n",
       "    }\n",
       "</style>\n",
       "<table border=\"1\" class=\"dataframe\">\n",
       "  <thead>\n",
       "    <tr style=\"text-align: right;\">\n",
       "      <th></th>\n",
       "      <th>age</th>\n",
       "      <th>short_passing</th>\n",
       "      <th>long_passing</th>\n",
       "      <th>ball_control</th>\n",
       "      <th>interceptions</th>\n",
       "      <th>positioning</th>\n",
       "      <th>vision</th>\n",
       "      <th>marking</th>\n",
       "      <th>gk_handling</th>\n",
       "      <th>gk_reflexes</th>\n",
       "      <th>...</th>\n",
       "      <th>Goals-15/16</th>\n",
       "      <th>A-15/16</th>\n",
       "      <th>CS-15/16</th>\n",
       "      <th>Yellow-15/16</th>\n",
       "      <th>Red-15/16</th>\n",
       "      <th>Off-15/16</th>\n",
       "      <th>Pen_SV-15/16</th>\n",
       "      <th>Pen_M-15/16</th>\n",
       "      <th>Goals_conceded-15/16</th>\n",
       "      <th>OG-15/16</th>\n",
       "    </tr>\n",
       "  </thead>\n",
       "  <tbody>\n",
       "    <tr>\n",
       "      <th>count</th>\n",
       "      <td>3147.000000</td>\n",
       "      <td>3147.000000</td>\n",
       "      <td>3147.000000</td>\n",
       "      <td>3147.000000</td>\n",
       "      <td>3147.000000</td>\n",
       "      <td>3147.000000</td>\n",
       "      <td>3147.000000</td>\n",
       "      <td>3147.000000</td>\n",
       "      <td>3147.000000</td>\n",
       "      <td>3147.000000</td>\n",
       "      <td>...</td>\n",
       "      <td>3147.000000</td>\n",
       "      <td>3147.000000</td>\n",
       "      <td>3147.000000</td>\n",
       "      <td>3147.000000</td>\n",
       "      <td>3147.000000</td>\n",
       "      <td>3147.00000</td>\n",
       "      <td>3147.000000</td>\n",
       "      <td>3147.000000</td>\n",
       "      <td>3147.000000</td>\n",
       "      <td>3147.000000</td>\n",
       "    </tr>\n",
       "    <tr>\n",
       "      <th>mean</th>\n",
       "      <td>25.769940</td>\n",
       "      <td>64.472831</td>\n",
       "      <td>58.324754</td>\n",
       "      <td>64.666349</td>\n",
       "      <td>51.361932</td>\n",
       "      <td>54.836034</td>\n",
       "      <td>58.042898</td>\n",
       "      <td>47.598983</td>\n",
       "      <td>16.957102</td>\n",
       "      <td>17.460121</td>\n",
       "      <td>...</td>\n",
       "      <td>1.158881</td>\n",
       "      <td>0.816015</td>\n",
       "      <td>1.111217</td>\n",
       "      <td>1.742930</td>\n",
       "      <td>0.045440</td>\n",
       "      <td>2.36225</td>\n",
       "      <td>0.019384</td>\n",
       "      <td>0.025739</td>\n",
       "      <td>5.794725</td>\n",
       "      <td>0.037178</td>\n",
       "    </tr>\n",
       "    <tr>\n",
       "      <th>std</th>\n",
       "      <td>4.490699</td>\n",
       "      <td>15.185465</td>\n",
       "      <td>15.602766</td>\n",
       "      <td>17.567088</td>\n",
       "      <td>22.640904</td>\n",
       "      <td>21.180298</td>\n",
       "      <td>15.589142</td>\n",
       "      <td>23.929516</td>\n",
       "      <td>18.711848</td>\n",
       "      <td>20.209297</td>\n",
       "      <td>...</td>\n",
       "      <td>3.089498</td>\n",
       "      <td>1.863293</td>\n",
       "      <td>2.936447</td>\n",
       "      <td>2.716589</td>\n",
       "      <td>0.218722</td>\n",
       "      <td>4.06726</td>\n",
       "      <td>0.181659</td>\n",
       "      <td>0.187766</td>\n",
       "      <td>13.245822</td>\n",
       "      <td>0.205340</td>\n",
       "    </tr>\n",
       "    <tr>\n",
       "      <th>min</th>\n",
       "      <td>16.000000</td>\n",
       "      <td>11.000000</td>\n",
       "      <td>10.000000</td>\n",
       "      <td>10.000000</td>\n",
       "      <td>5.000000</td>\n",
       "      <td>4.000000</td>\n",
       "      <td>10.000000</td>\n",
       "      <td>5.000000</td>\n",
       "      <td>1.000000</td>\n",
       "      <td>1.000000</td>\n",
       "      <td>...</td>\n",
       "      <td>0.000000</td>\n",
       "      <td>0.000000</td>\n",
       "      <td>0.000000</td>\n",
       "      <td>0.000000</td>\n",
       "      <td>0.000000</td>\n",
       "      <td>0.00000</td>\n",
       "      <td>0.000000</td>\n",
       "      <td>0.000000</td>\n",
       "      <td>0.000000</td>\n",
       "      <td>0.000000</td>\n",
       "    </tr>\n",
       "    <tr>\n",
       "      <th>25%</th>\n",
       "      <td>22.000000</td>\n",
       "      <td>60.000000</td>\n",
       "      <td>50.000000</td>\n",
       "      <td>62.000000</td>\n",
       "      <td>28.000000</td>\n",
       "      <td>44.000000</td>\n",
       "      <td>48.000000</td>\n",
       "      <td>23.000000</td>\n",
       "      <td>8.000000</td>\n",
       "      <td>8.000000</td>\n",
       "      <td>...</td>\n",
       "      <td>0.000000</td>\n",
       "      <td>0.000000</td>\n",
       "      <td>0.000000</td>\n",
       "      <td>0.000000</td>\n",
       "      <td>0.000000</td>\n",
       "      <td>0.00000</td>\n",
       "      <td>0.000000</td>\n",
       "      <td>0.000000</td>\n",
       "      <td>0.000000</td>\n",
       "      <td>0.000000</td>\n",
       "    </tr>\n",
       "    <tr>\n",
       "      <th>50%</th>\n",
       "      <td>26.000000</td>\n",
       "      <td>68.000000</td>\n",
       "      <td>62.000000</td>\n",
       "      <td>70.000000</td>\n",
       "      <td>58.000000</td>\n",
       "      <td>61.000000</td>\n",
       "      <td>60.000000</td>\n",
       "      <td>54.000000</td>\n",
       "      <td>11.000000</td>\n",
       "      <td>11.000000</td>\n",
       "      <td>...</td>\n",
       "      <td>0.000000</td>\n",
       "      <td>0.000000</td>\n",
       "      <td>0.000000</td>\n",
       "      <td>0.000000</td>\n",
       "      <td>0.000000</td>\n",
       "      <td>0.00000</td>\n",
       "      <td>0.000000</td>\n",
       "      <td>0.000000</td>\n",
       "      <td>0.000000</td>\n",
       "      <td>0.000000</td>\n",
       "    </tr>\n",
       "    <tr>\n",
       "      <th>75%</th>\n",
       "      <td>29.000000</td>\n",
       "      <td>74.000000</td>\n",
       "      <td>69.000000</td>\n",
       "      <td>75.000000</td>\n",
       "      <td>71.000000</td>\n",
       "      <td>70.000000</td>\n",
       "      <td>70.000000</td>\n",
       "      <td>70.000000</td>\n",
       "      <td>14.000000</td>\n",
       "      <td>14.000000</td>\n",
       "      <td>...</td>\n",
       "      <td>1.000000</td>\n",
       "      <td>1.000000</td>\n",
       "      <td>0.000000</td>\n",
       "      <td>3.000000</td>\n",
       "      <td>0.000000</td>\n",
       "      <td>3.00000</td>\n",
       "      <td>0.000000</td>\n",
       "      <td>0.000000</td>\n",
       "      <td>0.000000</td>\n",
       "      <td>0.000000</td>\n",
       "    </tr>\n",
       "    <tr>\n",
       "      <th>max</th>\n",
       "      <td>40.000000</td>\n",
       "      <td>92.000000</td>\n",
       "      <td>93.000000</td>\n",
       "      <td>95.000000</td>\n",
       "      <td>92.000000</td>\n",
       "      <td>95.000000</td>\n",
       "      <td>92.000000</td>\n",
       "      <td>92.000000</td>\n",
       "      <td>91.000000</td>\n",
       "      <td>150.000000</td>\n",
       "      <td>...</td>\n",
       "      <td>40.000000</td>\n",
       "      <td>19.000000</td>\n",
       "      <td>24.000000</td>\n",
       "      <td>17.000000</td>\n",
       "      <td>2.000000</td>\n",
       "      <td>30.00000</td>\n",
       "      <td>4.000000</td>\n",
       "      <td>3.000000</td>\n",
       "      <td>72.000000</td>\n",
       "      <td>2.000000</td>\n",
       "    </tr>\n",
       "  </tbody>\n",
       "</table>\n",
       "<p>8 rows × 34 columns</p>\n",
       "</div>"
      ],
      "text/plain": [
       "               age  short_passing  long_passing  ball_control  interceptions  \\\n",
       "count  3147.000000    3147.000000   3147.000000   3147.000000    3147.000000   \n",
       "mean     25.769940      64.472831     58.324754     64.666349      51.361932   \n",
       "std       4.490699      15.185465     15.602766     17.567088      22.640904   \n",
       "min      16.000000      11.000000     10.000000     10.000000       5.000000   \n",
       "25%      22.000000      60.000000     50.000000     62.000000      28.000000   \n",
       "50%      26.000000      68.000000     62.000000     70.000000      58.000000   \n",
       "75%      29.000000      74.000000     69.000000     75.000000      71.000000   \n",
       "max      40.000000      92.000000     93.000000     95.000000      92.000000   \n",
       "\n",
       "       positioning       vision      marking  gk_handling  gk_reflexes  \\\n",
       "count  3147.000000  3147.000000  3147.000000  3147.000000  3147.000000   \n",
       "mean     54.836034    58.042898    47.598983    16.957102    17.460121   \n",
       "std      21.180298    15.589142    23.929516    18.711848    20.209297   \n",
       "min       4.000000    10.000000     5.000000     1.000000     1.000000   \n",
       "25%      44.000000    48.000000    23.000000     8.000000     8.000000   \n",
       "50%      61.000000    60.000000    54.000000    11.000000    11.000000   \n",
       "75%      70.000000    70.000000    70.000000    14.000000    14.000000   \n",
       "max      95.000000    92.000000    92.000000    91.000000   150.000000   \n",
       "\n",
       "          ...       Goals-15/16      A-15/16     CS-15/16  Yellow-15/16  \\\n",
       "count     ...       3147.000000  3147.000000  3147.000000   3147.000000   \n",
       "mean      ...          1.158881     0.816015     1.111217      1.742930   \n",
       "std       ...          3.089498     1.863293     2.936447      2.716589   \n",
       "min       ...          0.000000     0.000000     0.000000      0.000000   \n",
       "25%       ...          0.000000     0.000000     0.000000      0.000000   \n",
       "50%       ...          0.000000     0.000000     0.000000      0.000000   \n",
       "75%       ...          1.000000     1.000000     0.000000      3.000000   \n",
       "max       ...         40.000000    19.000000    24.000000     17.000000   \n",
       "\n",
       "         Red-15/16   Off-15/16  Pen_SV-15/16  Pen_M-15/16  \\\n",
       "count  3147.000000  3147.00000   3147.000000  3147.000000   \n",
       "mean      0.045440     2.36225      0.019384     0.025739   \n",
       "std       0.218722     4.06726      0.181659     0.187766   \n",
       "min       0.000000     0.00000      0.000000     0.000000   \n",
       "25%       0.000000     0.00000      0.000000     0.000000   \n",
       "50%       0.000000     0.00000      0.000000     0.000000   \n",
       "75%       0.000000     3.00000      0.000000     0.000000   \n",
       "max       2.000000    30.00000      4.000000     3.000000   \n",
       "\n",
       "       Goals_conceded-15/16     OG-15/16  \n",
       "count           3147.000000  3147.000000  \n",
       "mean               5.794725     0.037178  \n",
       "std               13.245822     0.205340  \n",
       "min                0.000000     0.000000  \n",
       "25%                0.000000     0.000000  \n",
       "50%                0.000000     0.000000  \n",
       "75%                0.000000     0.000000  \n",
       "max               72.000000     2.000000  \n",
       "\n",
       "[8 rows x 34 columns]"
      ]
     },
     "execution_count": 253,
     "metadata": {},
     "output_type": "execute_result"
    }
   ],
   "source": [
    "train_data = train_data.drop(['overall','Points-16/17','Points-15/16'],axis=1)\n",
    "train_data.describe()"
   ]
  },
  {
   "cell_type": "code",
   "execution_count": 254,
   "metadata": {},
   "outputs": [],
   "source": [
    "train_data = pd.get_dummies(train_data, columns=[\"league\"])\n",
    "# train_data.describe()"
   ]
  },
  {
   "cell_type": "code",
   "execution_count": 255,
   "metadata": {},
   "outputs": [
    {
     "name": "stdout",
     "output_type": "stream",
     "text": [
      "339 958 1196 654\n"
     ]
    }
   ],
   "source": [
    "    goalie = train_data.loc[train_data['Position'] == 'Goalkeeper']\n",
    "    defend = train_data.loc[train_data['Position'] == 'Defender']\n",
    "    mid = train_data.loc[train_data['Position'] == 'Midfielder']\n",
    "    att = train_data.loc[train_data['Position'] == 'Forward']\n",
    "    goalie = goalie.drop(['Position'],axis=1)\n",
    "    defend = defend.drop(['Position'],axis=1)\n",
    "    mid = mid.drop(['Position'],axis=1)\n",
    "    att = att.drop(['Position'],axis=1)\n",
    "    print(goalie.age.size, defend.age.size, mid.age.size, att.age.size)"
   ]
  },
  {
   "cell_type": "code",
   "execution_count": 256,
   "metadata": {},
   "outputs": [],
   "source": [
    "train_data.to_csv('training_new/training_data.csv',index=None)\n",
    "goalie.to_csv('training_new/goalie.csv',index=None)\n",
    "defend.to_csv('training_new/defender.csv',index=None)\n",
    "mid.to_csv('training_new/midfielder.csv',index=None)\n",
    "att.to_csv('training_new/forward.csv',index=None)\n",
    "# goalie_y.to_csv('ground_truth/goalie_y.csv',index=None)\n",
    "# defend_y.to_csv('ground_truth/defender_y.csv',index=None)\n",
    "# mid_y.to_csv('ground_truth/midfielder_y.csv',index=None)\n",
    "# att_y.to_csv('ground_truth/forward_y.csv',index=None)"
   ]
  },
  {
   "cell_type": "code",
   "execution_count": null,
   "metadata": {},
   "outputs": [],
   "source": []
  }
 ],
 "metadata": {
  "kernelspec": {
   "display_name": "Python 3",
   "language": "python",
   "name": "python3"
  },
  "language_info": {
   "codemirror_mode": {
    "name": "ipython",
    "version": 3
   },
   "file_extension": ".py",
   "mimetype": "text/x-python",
   "name": "python",
   "nbconvert_exporter": "python",
   "pygments_lexer": "ipython3",
   "version": "3.5.2"
  }
 },
 "nbformat": 4,
 "nbformat_minor": 2
}
