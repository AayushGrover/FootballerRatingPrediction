{
 "cells": [
  {
   "cell_type": "markdown",
   "metadata": {},
   "source": [
    "## Linear Regression"
   ]
  },
  {
   "cell_type": "code",
   "execution_count": 1,
   "metadata": {},
   "outputs": [
    {
     "name": "stderr",
     "output_type": "stream",
     "text": [
      "/home/atibhi/Desktop/mlhack/myenv/lib/python3.5/importlib/_bootstrap.py:222: RuntimeWarning: numpy.dtype size changed, may indicate binary incompatibility. Expected 96, got 88\n",
      "  return f(*args, **kwds)\n",
      "/home/atibhi/Desktop/mlhack/myenv/lib/python3.5/importlib/_bootstrap.py:222: RuntimeWarning: numpy.dtype size changed, may indicate binary incompatibility. Expected 96, got 88\n",
      "  return f(*args, **kwds)\n",
      "/home/atibhi/Desktop/mlhack/myenv/lib/python3.5/importlib/_bootstrap.py:222: RuntimeWarning: numpy.dtype size changed, may indicate binary incompatibility. Expected 96, got 88\n",
      "  return f(*args, **kwds)\n",
      "/home/atibhi/Desktop/mlhack/myenv/lib/python3.5/importlib/_bootstrap.py:222: RuntimeWarning: numpy.dtype size changed, may indicate binary incompatibility. Expected 96, got 88\n",
      "  return f(*args, **kwds)\n",
      "/home/atibhi/Desktop/mlhack/myenv/lib/python3.5/importlib/_bootstrap.py:222: RuntimeWarning: numpy.dtype size changed, may indicate binary incompatibility. Expected 96, got 88\n",
      "  return f(*args, **kwds)\n",
      "/home/atibhi/Desktop/mlhack/myenv/lib/python3.5/importlib/_bootstrap.py:222: RuntimeWarning: numpy.dtype size changed, may indicate binary incompatibility. Expected 96, got 88\n",
      "  return f(*args, **kwds)\n",
      "/home/atibhi/Desktop/mlhack/myenv/lib/python3.5/site-packages/sklearn/cross_validation.py:41: DeprecationWarning: This module was deprecated in version 0.18 in favor of the model_selection module into which all the refactored classes and functions are moved. Also note that the interface of the new CV iterators are different from that of this module. This module will be removed in 0.20.\n",
      "  \"This module will be removed in 0.20.\", DeprecationWarning)\n"
     ]
    }
   ],
   "source": [
    "import numpy as np\n",
    "import pandas as pd\n",
    "import matplotlib.pyplot as plt\n",
    "import sklearn\n",
    "from numpy import array\n",
    "from numpy import argmax\n",
    "from sklearn.linear_model import LinearRegression\n",
    "from sklearn.model_selection import train_test_split, KFold\n",
    "from sklearn import datasets, linear_model, metrics \n",
    "from sklearn.cross_validation import cross_val_score\n",
    "import pickle"
   ]
  },
  {
   "cell_type": "code",
   "execution_count": 2,
   "metadata": {
    "scrolled": true
   },
   "outputs": [],
   "source": [
    "pd.options.mode.chained_assignment = None\n",
    "train_data = pd.read_csv(\"training/training_data.csv\")\n",
    "train_data = train_data.drop(['Position'],axis=1)"
   ]
  },
  {
   "cell_type": "code",
   "execution_count": 3,
   "metadata": {},
   "outputs": [],
   "source": [
    "X = train_data \n",
    "y = pd.read_csv(\"ground_truth/overall.csv\") "
   ]
  },
  {
   "cell_type": "code",
   "execution_count": 4,
   "metadata": {},
   "outputs": [
    {
     "data": {
      "text/plain": [
       "(3147, 47)"
      ]
     },
     "execution_count": 4,
     "metadata": {},
     "output_type": "execute_result"
    }
   ],
   "source": [
    "X.shape"
   ]
  },
  {
   "cell_type": "code",
   "execution_count": 5,
   "metadata": {},
   "outputs": [
    {
     "data": {
      "text/plain": [
       "(3147, 1)"
      ]
     },
     "execution_count": 5,
     "metadata": {},
     "output_type": "execute_result"
    }
   ],
   "source": [
    "y.shape"
   ]
  },
  {
   "cell_type": "code",
   "execution_count": 6,
   "metadata": {},
   "outputs": [],
   "source": [
    "X_train, X_test, y_train, y_test = train_test_split(X, y, test_size=0.15, random_state=42) "
   ]
  },
  {
   "cell_type": "code",
   "execution_count": 7,
   "metadata": {},
   "outputs": [],
   "source": [
    "reg = linear_model.LinearRegression() "
   ]
  },
  {
   "cell_type": "code",
   "execution_count": null,
   "metadata": {},
   "outputs": [],
   "source": [
    "model = reg.fit(X_train, y_train) "
   ]
  },
  {
   "cell_type": "code",
   "execution_count": null,
   "metadata": {},
   "outputs": [],
   "source": [
    "pickle.dump(reg,open(\"LR_Pickles/linear_regression_goalie.p\",\"wb\"))"
   ]
  },
  {
   "cell_type": "code",
   "execution_count": 8,
   "metadata": {},
   "outputs": [
    {
     "name": "stdout",
     "output_type": "stream",
     "text": [
      "[0.72607626 0.79604779 0.78228138 0.76212918 0.76964534]\n"
     ]
    }
   ],
   "source": [
    "scores = cross_val_score(model,X_train,y_train,cv=5)\n",
    "print(scores)"
   ]
  },
  {
   "cell_type": "code",
   "execution_count": 9,
   "metadata": {},
   "outputs": [
    {
     "name": "stdout",
     "output_type": "stream",
     "text": [
      "Coefficients: \n",
      " [[ 0.27635001  0.09794067 -0.01363103  0.21251474  0.04759819 -0.00597777\n",
      "  -0.0160269   0.00223071  0.11813603  0.10092852  0.06012835 -0.05018245\n",
      "   0.01717846 -0.06107797 -0.06154904  0.1201743   0.00451206  0.15699408\n",
      "   0.01478658  0.10062327  0.21963664  0.00647186  0.58666418  0.04792763\n",
      "  -0.04361057  0.01401454 -0.08028596 -0.02916311 -0.06094243  0.06736888\n",
      "   0.05192033 -0.05350229  0.99974924 -0.23365423  0.01109688  0.65183993\n",
      "   0.22806031  0.55043642 -0.70846122 -2.01806074 -0.57788532  0.89451162\n",
      "   0.08030044 -1.34576434  1.24019049  0.12482611  1.53184622]]\n"
     ]
    }
   ],
   "source": [
    "# regression coefficients \n",
    "print('Coefficients: \\n', reg.coef_) "
   ]
  },
  {
   "cell_type": "code",
   "execution_count": 10,
   "metadata": {},
   "outputs": [
    {
     "name": "stdout",
     "output_type": "stream",
     "text": [
      "Variance score: 0.768163589625066\n"
     ]
    }
   ],
   "source": [
    "# variance score: 1 means perfect prediction \n",
    "print('Variance score: {}'.format(reg.score(X_test, y_test))) "
   ]
  },
  {
   "cell_type": "markdown",
   "metadata": {},
   "source": [
    "## Results"
   ]
  },
  {
   "cell_type": "markdown",
   "metadata": {},
   "source": [
    "For Linear Regression, accuracies of ratings of players are :\n",
    "\n",
    "- **Goalkeeper** : 0.9447227122342368, **Cross-val** = [0.69046458 0.86651207 0.90495512 0.93145542 0.92278509]\n",
    "- **Forward** :  0.8617509319866774, **Cross-val** = [0.84284416 0.88360999 0.80799645 0.86456835 0.84842202]\n",
    "- **Defender** : 0.803729638101549, **Cross-val** = [0.80717527 0.75942803 0.84954936 0.71503158 0.79869502]\n",
    "- **Midfielder** : 0.8395039300810384, **Cross-val** = [0.83831646 0.84487003 0.83584216 0.82997279 0.86120531]\n",
    "- **Overall**: 0.768163589625066, **Cross-val** = [0.72607626 0.79604779 0.78228138 0.76212918 0.76964534]"
   ]
  }
 ],
 "metadata": {
  "kernelspec": {
   "display_name": "Python 3",
   "language": "python",
   "name": "python3"
  },
  "language_info": {
   "codemirror_mode": {
    "name": "ipython",
    "version": 3
   },
   "file_extension": ".py",
   "mimetype": "text/x-python",
   "name": "python",
   "nbconvert_exporter": "python",
   "pygments_lexer": "ipython3",
   "version": "3.5.2"
  }
 },
 "nbformat": 4,
 "nbformat_minor": 2
}
